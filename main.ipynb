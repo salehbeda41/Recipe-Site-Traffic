{
 "cells": [
  {
   "cell_type": "code",
   "execution_count": 57,
   "metadata": {},
   "outputs": [
    {
     "name": "stdout",
     "output_type": "stream",
     "text": [
      "   recipe  calories  carbohydrate  sugar  protein   category servings  \\\n",
      "0       1       NaN           NaN    NaN      NaN       Pork        6   \n",
      "1       2     35.48         38.56   0.66     0.92     Potato        4   \n",
      "2       3    914.28         42.68   3.09     2.88  Breakfast        1   \n",
      "3       4     97.03         30.56  38.63     0.02  Beverages        4   \n",
      "4       5     27.05          1.85   0.80     0.53  Beverages        4   \n",
      "\n",
      "  high_traffic  \n",
      "0         High  \n",
      "1         High  \n",
      "2          NaN  \n",
      "3         High  \n",
      "4          NaN  \n",
      "<class 'pandas.core.frame.DataFrame'>\n",
      "RangeIndex: 947 entries, 0 to 946\n",
      "Data columns (total 8 columns):\n",
      " #   Column        Non-Null Count  Dtype  \n",
      "---  ------        --------------  -----  \n",
      " 0   recipe        947 non-null    int64  \n",
      " 1   calories      895 non-null    float64\n",
      " 2   carbohydrate  895 non-null    float64\n",
      " 3   sugar         895 non-null    float64\n",
      " 4   protein       895 non-null    float64\n",
      " 5   category      947 non-null    object \n",
      " 6   servings      947 non-null    object \n",
      " 7   high_traffic  574 non-null    object \n",
      "dtypes: float64(4), int64(1), object(3)\n",
      "memory usage: 59.3+ KB\n",
      "None\n",
      "           recipe     calories  carbohydrate       sugar     protein\n",
      "count  947.000000   895.000000    895.000000  895.000000  895.000000\n",
      "mean   474.000000   435.939196     35.069676    9.046547   24.149296\n",
      "std    273.519652   453.020997     43.949032   14.679176   36.369739\n",
      "min      1.000000     0.140000      0.030000    0.010000    0.000000\n",
      "25%    237.500000   110.430000      8.375000    1.690000    3.195000\n",
      "50%    474.000000   288.550000     21.480000    4.550000   10.800000\n",
      "75%    710.500000   597.650000     44.965000    9.800000   30.200000\n",
      "max    947.000000  3633.160000    530.420000  148.750000  363.360000\n",
      "recipe            0\n",
      "calories         52\n",
      "carbohydrate     52\n",
      "sugar            52\n",
      "protein          52\n",
      "category          0\n",
      "servings          0\n",
      "high_traffic    373\n",
      "dtype: int64\n"
     ]
    }
   ],
   "source": [
    "import pandas as pd\n",
    "\n",
    "data = pd.read_csv('recipe_site_traffic_2212.csv')\n",
    "print(data.head())\n",
    "print(data.info())\n",
    "print(data.describe())\n",
    "print(data.isna().sum())"
   ]
  },
  {
   "cell_type": "markdown",
   "metadata": {},
   "source": [
    "## Data type of servings column is not as described(numeric) ---> convert dtype\n",
    "## There are null values in calories, carbohydrate, sugar, protein, and high_traffic columns\n"
   ]
  },
  {
   "cell_type": "code",
   "execution_count": null,
   "metadata": {},
   "outputs": [],
   "source": []
  },
  {
   "cell_type": "code",
   "execution_count": 58,
   "metadata": {},
   "outputs": [
    {
     "name": "stdout",
     "output_type": "stream",
     "text": [
      "Empty DataFrame\n",
      "Columns: [recipe, calories, carbohydrate, sugar, protein, category, servings, high_traffic]\n",
      "Index: []\n"
     ]
    },
    {
     "data": {
      "text/plain": [
       "array(['6', '4', '1', '2', '4 as a snack', '6 as a snack'], dtype=object)"
      ]
     },
     "execution_count": 58,
     "metadata": {},
     "output_type": "execute_result"
    }
   ],
   "source": [
    "print(data[data.duplicated()])\n",
    "data['servings'].unique()"
   ]
  },
  {
   "cell_type": "code",
   "execution_count": 59,
   "metadata": {},
   "outputs": [
    {
     "data": {
      "text/plain": [
       "recipe            int64\n",
       "calories        float64\n",
       "carbohydrate    float64\n",
       "sugar           float64\n",
       "protein         float64\n",
       "category         object\n",
       "servings          int64\n",
       "high_traffic     object\n",
       "dtype: object"
      ]
     },
     "execution_count": 59,
     "metadata": {},
     "output_type": "execute_result"
    }
   ],
   "source": [
    "data['servings'] = data['servings'].apply(lambda x: x.split()[0])\n",
    "data['servings'] = data['servings'].astype('int64')\n",
    "data.dtypes"
   ]
  },
  {
   "cell_type": "code",
   "execution_count": 60,
   "metadata": {},
   "outputs": [
    {
     "data": {
      "text/plain": [
       "array([6, 4, 1, 2], dtype=int64)"
      ]
     },
     "execution_count": 60,
     "metadata": {},
     "output_type": "execute_result"
    }
   ],
   "source": [
    "data['servings'].unique()"
   ]
  },
  {
   "cell_type": "markdown",
   "metadata": {},
   "source": [
    "### let's check category column, Recipes are listed in one of ten\n",
    "### possible groupings (Lunch/Snacks', 'Beverages', 'Potato',\n",
    "### 'Vegetable', 'Meat', 'Chicken, 'Pork', 'Dessert', 'Breakfast', 'One\n",
    "### Dish Meal')"
   ]
  },
  {
   "cell_type": "code",
   "execution_count": 61,
   "metadata": {},
   "outputs": [
    {
     "data": {
      "text/plain": [
       "array(['Pork', 'Potato', 'Breakfast', 'Beverages', 'One Dish Meal',\n",
       "       'Chicken Breast', 'Lunch/Snacks', 'Chicken', 'Vegetable', 'Meat',\n",
       "       'Dessert'], dtype=object)"
      ]
     },
     "execution_count": 61,
     "metadata": {},
     "output_type": "execute_result"
    }
   ],
   "source": [
    "data['category'].unique()"
   ]
  },
  {
   "cell_type": "code",
   "execution_count": 62,
   "metadata": {},
   "outputs": [
    {
     "data": {
      "text/plain": [
       "array(['Pork', 'Potato', 'Breakfast', 'Beverages', 'One Dish Meal',\n",
       "       'Lunch/Snacks', 'Chicken', 'Vegetable', 'Meat', 'Dessert'],\n",
       "      dtype=object)"
      ]
     },
     "execution_count": 62,
     "metadata": {},
     "output_type": "execute_result"
    }
   ],
   "source": [
    "data = data[data['category'].isin(['Lunch/Snacks', 'Beverages', 'Potato',\n",
    " 'Vegetable', 'Meat', 'Chicken', 'Pork', 'Dessert', 'Breakfast', 'One Dish Meal'])]\n",
    "data['category'].unique()"
   ]
  },
  {
   "cell_type": "code",
   "execution_count": 63,
   "metadata": {},
   "outputs": [
    {
     "name": "stderr",
     "output_type": "stream",
     "text": [
      "C:\\Users\\SoftLaptop\\AppData\\Local\\Temp\\ipykernel_11804\\108310560.py:1: FutureWarning: A value is trying to be set on a copy of a DataFrame or Series through chained assignment using an inplace method.\n",
      "The behavior will change in pandas 3.0. This inplace method will never work because the intermediate object on which we are setting values always behaves as a copy.\n",
      "\n",
      "For example, when doing 'df[col].method(value, inplace=True)', try using 'df.method({col: value}, inplace=True)' or df[col] = df[col].method(value) instead, to perform the operation inplace on the original object.\n",
      "\n",
      "\n",
      "  data['high_traffic'].fillna('Low', inplace=True)\n"
     ]
    },
    {
     "data": {
      "text/plain": [
       "recipe           0\n",
       "calories        48\n",
       "carbohydrate    48\n",
       "sugar           48\n",
       "protein         48\n",
       "category         0\n",
       "servings         0\n",
       "high_traffic     0\n",
       "dtype: int64"
      ]
     },
     "execution_count": 63,
     "metadata": {},
     "output_type": "execute_result"
    }
   ],
   "source": [
    "data['high_traffic'].fillna('Low', inplace=True)\n",
    "data.isna().sum()"
   ]
  },
  {
   "cell_type": "code",
   "execution_count": 64,
   "metadata": {},
   "outputs": [
    {
     "data": {
      "image/png": "[encoded data removed]",
      "text/plain": [
       "<Figure size 1200x800 with 1 Axes>"
      ]
     },
     "metadata": {},
     "output_type": "display_data"
    }
   ],
   "source": [
    "import seaborn as sns\n",
    "import matplotlib.pyplot as plt\n",
    "\n",
    "numeric_columns = ['calories', 'carbohydrate', 'sugar', 'protein', 'servings']\n",
    "\n",
    "plt.figure(figsize=(12, 8))\n",
    "sns.boxenplot(y=data['protein'], x=data['high_traffic'])\n",
    "plt.show()"
   ]
  },
  {
   "cell_type": "code",
   "execution_count": 65,
   "metadata": {},
   "outputs": [],
   "source": [
    "data.dtypes\n",
    "# Preprocessing based on exploratory phase  \n",
    "data['high_traffic'] = data['high_traffic'].astype('category')\n",
    "data['category'] = data['category'].astype('category')\n",
    "\n",
    "# Encode Categorical columns\n",
    "data = pd.get_dummies(data, columns=['category'], drop_first=True)\n",
    "data['high_traffic'] = data['high_traffic'].map({'High': 1, 'Low': 0})"
   ]
  },
  {
   "cell_type": "code",
   "execution_count": 68,
   "metadata": {},
   "outputs": [
    {
     "data": {
      "text/plain": [
       "True"
      ]
     },
     "execution_count": 68,
     "metadata": {},
     "output_type": "execute_result"
    }
   ],
   "source": [
    "data['calories'].dtype == 'float64'"
   ]
  },
  {
   "cell_type": "code",
   "execution_count": 69,
   "metadata": {},
   "outputs": [
    {
     "data": {
      "text/plain": [
       "recipe                       int64\n",
       "calories                   float64\n",
       "carbohydrate               float64\n",
       "sugar                      float64\n",
       "protein                    float64\n",
       "servings                     int64\n",
       "high_traffic              category\n",
       "category_Breakfast            bool\n",
       "category_Chicken              bool\n",
       "category_Dessert              bool\n",
       "category_Lunch/Snacks         bool\n",
       "category_Meat                 bool\n",
       "category_One Dish Meal        bool\n",
       "category_Pork                 bool\n",
       "category_Potato               bool\n",
       "category_Vegetable            bool\n",
       "dtype: object"
      ]
     },
     "execution_count": 69,
     "metadata": {},
     "output_type": "execute_result"
    }
   ],
   "source": [
    "data.dtypes"
   ]
  },
  {
   "cell_type": "code",
   "execution_count": null,
   "metadata": {},
   "outputs": [],
   "source": []
  }
 ],
 "metadata": {
  "kernelspec": {
   "display_name": "Python 3",
   "language": "python",
   "name": "python3"
  },
  "language_info": {
   "codemirror_mode": {
    "name": "ipython",
    "version": 3
   },
   "file_extension": ".py",
   "mimetype": "text/x-python",
   "name": "python",
   "nbconvert_exporter": "python",
   "pygments_lexer": "ipython3",
   "version": "3.11.4"
  }
 },
 "nbformat": 4,
 "nbformat_minor": 2
}
